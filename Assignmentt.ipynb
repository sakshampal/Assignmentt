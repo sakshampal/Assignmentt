{
 "cells": [
  {
   "cell_type": "code",
   "execution_count": null,
   "id": "85f3dc73-bc33-4e14-a661-0f3beb3e5e41",
   "metadata": {},
   "outputs": [],
   "source": [
    "Q1. Create one variable containing following type of data:\n",
    "\n",
    "str = \"saksham\"\n",
    "l = [2,3,4,3,5,\"saksham\",\"pwskills\",24.54,True]\n",
    "f = 74.56\n",
    "a_tuple = ('abc', 'xyz', 123, 231, 13.31, 0.1312)\n"
   ]
  },
  {
   "cell_type": "code",
   "execution_count": null,
   "id": "23a78ddb-4c71-4cd5-b68a-5bf54ff4f14c",
   "metadata": {},
   "outputs": [],
   "source": [
    "Q2. Given are some following variables containing data:\n",
    "\n",
    "(i) str\n",
    "(ii) str\n",
    "(iii) list\n",
    "(iv) float\n",
    "\n"
   ]
  },
  {
   "cell_type": "code",
   "execution_count": null,
   "id": "3ac57049-f0da-434a-8384-8b5eff529c04",
   "metadata": {},
   "outputs": [],
   "source": [
    "Q3. Explain the use of the following operators using an example:\n",
    "\n",
    "(i) / it is arithmetic operator used for division \n",
    "ex: a = 6 \n",
    "    b = 3\n",
    "    a/b\n",
    "    output = 2\n",
    "(ii) % it is called modulo operation \n",
    "ex:\n",
    "  a%b\n",
    "  o/p = 0\n",
    "  \n",
    "(iii) // it is called floor division operation\n",
    "ex:\n",
    "    a//b\n",
    "    o/p = 2\n",
    "    \n",
    "    \n",
    "(iv) ** it is called the power operation \n",
    "\n",
    "ex:\n",
    "   a to the power  b \n",
    "   a**b\n",
    "   o/p = 216\n",
    "\n",
    "\n"
   ]
  },
  {
   "cell_type": "code",
   "execution_count": null,
   "id": "74ce6cc1-9604-4850-a998-af9f63f6b92a",
   "metadata": {},
   "outputs": [],
   "source": [
    "Q4. Create a list of length 10 of your choice containing multiple types of data. Using for loop print the\n",
    "element and its data type.\n",
    "\n",
    "l = [1,2,3,4,\"saksham\",\"pwskills\",True,25.54,\"pal\",41]\n",
    "\n",
    "for i in l :\n",
    "    print(type(i))\n",
    "    print(i)"
   ]
  },
  {
   "cell_type": "code",
   "execution_count": null,
   "id": "79e88854-60cb-42da-913e-921ef5bc5697",
   "metadata": {},
   "outputs": [],
   "source": [
    "Q5. Using a while loop, verify if the number A is purely divisible by number B and if so then how many\n",
    "times it can be divisible.\n",
    "\n",
    "A = 36\n",
    "B = 6\n",
    "count = 0\n",
    "\n",
    "while A % B == 0:\n",
    "    count += 1\n",
    "    A //= B\n",
    "\n",
    "if count > 0:\n",
    "    print(f\"{A} is divisible by {B} {count} times.\")\n",
    "else:\n",
    "    print(f\"{A} is not divisible by {B}.\")\n",
    "\n"
   ]
  },
  {
   "cell_type": "code",
   "execution_count": null,
   "id": "27c4b7cc-b9f8-461e-a049-2734be512541",
   "metadata": {},
   "outputs": [],
   "source": [
    "Q6. Create a list containing 25 int type data. Using for loop and if-else condition print if the element is\n",
    "divisible by 3 or not.\n",
    "\n",
    "\n",
    "my_list = [1,2,3,4,5,6,7,8,9,10,11,12,13,14,15,16,17,18,19,20,21,22,23,24,25]\n",
    "\n",
    "\n",
    "for i in my_list :\n",
    "    \n",
    "    if i%3==0 :\n",
    "        print(f\"{i} is divisible by 3\")\n",
    "    else :\n",
    "        print(f\"{i} is not divisible by 3\")\n"
   ]
  },
  {
   "cell_type": "markdown",
   "id": "9aa964c5-6313-4908-b744-6f3347310c58",
   "metadata": {},
   "source": [
    "Q7. What do you understand about mutable and immutable data types? Give examples for both showing\n",
    "this property.\n",
    "\n",
    "Immutable data types:\n",
    "Immutable data types are those whose value cannot be changed once they are created.\n",
    "Whenever you perform any operation on an immutable object, a new object is created with the updated value. \n",
    "Examples of immutable data types in Python include int, float, complex, bool, str, bytes, and tuple.\n",
    "\n",
    "Here's an example to illustrate the immutability of a tuple:\n",
    "\n",
    "# create a tuple\n",
    "my_tuple = (1, 2, 3)\n",
    "\n",
    "my_tuple[0] = 4 \n",
    "# this will raise a TypeError: 'tuple' object does not support item assignment\n",
    "\n",
    "Mutable data types:\n",
    "Mutable data types are those whose value can be changed after they are created. Whenever you perform any operation on a mutable object, the original object is modified. Examples of mutable data types in Python include list, set, dict, and bytearray.\n",
    "\n",
    "Here's an example to illustrate the mutability of a list:\n",
    "\n",
    "# create a list\n",
    "my_list = [1, 2, 3]\n",
    "\n",
    "# modify the second element of the list\n",
    "my_list[1] = 4\n",
    "\n",
    "# print the modified list\n",
    "print(my_list)  # output: [1, 4, 3]\n",
    "\n",
    "\n",
    "\n",
    "\n",
    "\n"
   ]
  }
 ],
 "metadata": {
  "kernelspec": {
   "display_name": "Python 3 (ipykernel)",
   "language": "python",
   "name": "python3"
  },
  "language_info": {
   "codemirror_mode": {
    "name": "ipython",
    "version": 3
   },
   "file_extension": ".py",
   "mimetype": "text/x-python",
   "name": "python",
   "nbconvert_exporter": "python",
   "pygments_lexer": "ipython3",
   "version": "3.10.8"
  }
 },
 "nbformat": 4,
 "nbformat_minor": 5
}
